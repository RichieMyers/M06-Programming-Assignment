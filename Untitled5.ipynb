{
 "cells": [
  {
   "cell_type": "code",
   "execution_count": null,
   "id": "5b34537a",
   "metadata": {},
   "outputs": [],
   "source": [
    "from datetime import datetime\n",
    "file = open('today.txt')\n",
    "dt_string = now.strftime(\"%H:%M:%S\")\n",
    "print(\"date and time =\", dt_string)\n",
    "\n",
    "\n",
    "with open('today.txt', 'r') as file:\n",
    "    data = file.read().rstrip()\n",
    "    \n",
    "today_string=int(var)\n",
    "\n",
    "import multiprocessing,time,datetime\n",
    "import zoo \n",
    "\n",
    "\n",
    "start = time.time()\n",
    "process1 = zoo.process1()\n",
    "process2 = zoo.process1()\n",
    "process3 = zoo.process1()\n",
    "\n",
    "print(datetime.datetime.now())\n",
    "if __name__==\"__main__\":\n",
    "    \n",
    "    \n",
    "    \n",
    "    p1 = multiprocessing.Process(target=process1)\n",
    "    p2 = multiprocessing.Process(target=process2)\n",
    "    p3 = multiprocessing.Process(target=process3)\n",
    "\n",
    "    p1.start()\n",
    "    p2.start()\n",
    "    p3.start()\n",
    "\n",
    "    p1.join()\n",
    "    p2.join()\n",
    "    p3.join()\n",
    "\n",
    "end = time.time()"
   ]
  }
 ],
 "metadata": {
  "kernelspec": {
   "display_name": "Python 3 (ipykernel)",
   "language": "python",
   "name": "python3"
  },
  "language_info": {
   "codemirror_mode": {
    "name": "ipython",
    "version": 3
   },
   "file_extension": ".py",
   "mimetype": "text/x-python",
   "name": "python",
   "nbconvert_exporter": "python",
   "pygments_lexer": "ipython3",
   "version": "3.9.13"
  }
 },
 "nbformat": 4,
 "nbformat_minor": 5
}
